{
  "nbformat": 4,
  "nbformat_minor": 0,
  "metadata": {
    "colab": {
      "provenance": [],
      "toc_visible": true,
      "mount_file_id": "1tiP0FKqlZHu3YcKGY435RxgJ6ScDE1Ev",
      "authorship_tag": "ABX9TyNyHgBk8Ya5Kmzw85lB9/HP",
      "include_colab_link": true
    },
    "kernelspec": {
      "name": "python3",
      "display_name": "Python 3"
    },
    "language_info": {
      "name": "python"
    }
  },
  "cells": [
    {
      "cell_type": "markdown",
      "metadata": {
        "id": "view-in-github",
        "colab_type": "text"
      },
      "source": [
        "<a href=\"https://colab.research.google.com/github/olwynodpatterson/FYP/blob/main/Scraping10k.ipynb\" target=\"_parent\"><img src=\"https://colab.research.google.com/assets/colab-badge.svg\" alt=\"Open In Colab\"/></a>"
      ]
    },
    {
      "cell_type": "markdown",
      "source": [
        "# Scraping 10k fillings"
      ],
      "metadata": {
        "id": "0ALLdZ_9aNvH"
      }
    },
    {
      "cell_type": "code",
      "source": [
        "import requests\n",
        "from bs4 import BeautifulSoup\n",
        "import os\n",
        "import time\n",
        "import random\n",
        "\n",
        "from google.colab import drive\n",
        "\n",
        "# Function to retrieve a list of tickers from a given URL\n",
        "def get_ticker_list(url):\n",
        "    headers = {'User-Agent': 'Mozilla/5.0'}\n",
        "    response = requests.get(url, headers=headers)\n",
        "    # Check if the request was successful\n",
        "    if response.status_code == 200:\n",
        "        tickers = response.text.splitlines()\n",
        "        return tickers\n",
        "    else:\n",
        "        # Raise an exception if the request failed\n",
        "        raise Exception(f\"Failed to retrieve data. Status code: {response.status_code}\")\n",
        "\n",
        "# Function to choose a random CIK (Central Index Key) from the list of tickers\n",
        "def choose_random_cik(tickers):\n",
        "    # Choose a random ticker and associated CIK\n",
        "    ticker, cik = random.choice(tickers).split('\\t')\n",
        "    return cik\n",
        "\n",
        "# Function to get the URLs of 10-K filings for a given CIK\n",
        "def get_10k_filing_urls(cik):\n",
        "    time.sleep(3) # Delay to avoid overwhelming the server\n",
        "    # Fetch the URLs for 10-K filings\n",
        "    filings_url = f\"https://www.sec.gov/cgi-bin/browse-edgar?action=getcompany&CIK={cik}&type=10-K&dateb=&owner=exclude&count=10\"\n",
        "    headers = {'User-Agent': 'Mozilla/5.0'}\n",
        "    response = requests.get(filings_url, headers=headers)\n",
        "    # Check response status\n",
        "    if response.status_code != 200:\n",
        "        print(\"Error fetching filings:\", response.status_code)\n",
        "        return None\n",
        "\n",
        "    soup = BeautifulSoup(response.text, 'html.parser')\n",
        "    table = soup.find('table', class_='tableFile2')\n",
        "    if not table:\n",
        "        return None\n",
        "\n",
        "    # Parse the table to get the filing links\n",
        "    for row in table.find_all('tr')[1:]:\n",
        "        cols = row.find_all('td')\n",
        "        if len(cols) > 1:\n",
        "            documents_page_link = 'https://www.sec.gov' + cols[1].a['href']\n",
        "            submission_text_file_link = documents_page_link.replace('-index.htm', '.txt')\n",
        "            return submission_text_file_link  # Return the first link found\n",
        "\n",
        "    return None\n",
        "\n",
        "def dehtml(html_content):\n",
        "    # Use BeautifulSoup to parse the HTML content\n",
        "    soup = BeautifulSoup(html_content, 'html.parser')\n",
        "\n",
        "    # Extract text from the parsed HTML\n",
        "    text = soup.get_text()\n",
        "\n",
        "    return text\n",
        "\n",
        "# Mount Google Drive\n",
        "drive.mount('/content/drive')\n",
        "\n",
        "# Function to download a file from a given URL\n",
        "def download_file(url, cik, folder='/content/drive/My Drive/10k_filings'):\n",
        "    # Define the Google Drive folder path\n",
        "    drive_folder_path = os.path.join(folder, cik)\n",
        "\n",
        "    # Create the folder if it doesn't exist\n",
        "    if not os.path.exists(drive_folder_path):\n",
        "        os.makedirs(drive_folder_path)\n",
        "\n",
        "    # Set the file path using the CIK\n",
        "    html_file_path = os.path.join(folder, f'{cik}_10k_form.html')\n",
        "    text_file_path = os.path.join(folder, f'{cik}_10k_form.txt')\n",
        "\n",
        "    # Make a request to download the file\n",
        "    headers = {'User-Agent': 'Mozilla/5.0'}\n",
        "    response = requests.get(url, headers=headers, stream=True)\n",
        "    if response.status_code == 200:\n",
        "        with open(html_file_path, 'wb') as html_file:\n",
        "            for chunk in response.iter_content(chunk_size=8192):\n",
        "                html_file.write(chunk)\n",
        "        print(f\"Downloaded HTML: {html_file_path}\")\n",
        "\n",
        "        # Read the HTML content\n",
        "        with open(html_file_path, 'r', encoding='utf-8') as html_file:\n",
        "            html_content = html_file.read()\n",
        "\n",
        "        # Convert HTML to plain text\n",
        "        plain_text = dehtml(html_content)\n",
        "\n",
        "        # Save the plain text\n",
        "        with open(text_file_path, 'w', encoding='utf-8') as text_file:\n",
        "            text_file.write(plain_text)\n",
        "        print(f\"Converted to Text: {text_file_path}\")\n",
        "    else:\n",
        "        print(f\"Failed to download file. Status code: {response.status_code}\")\n",
        "\n",
        "# Main function to drive the program\n",
        "def main():\n",
        "    url = 'https://www.sec.gov/include/ticker.txt'\n",
        "    tickers = get_ticker_list(url)\n",
        "    i=0\n",
        "    while i <5:\n",
        "        cik =  choose_random_cik(tickers)\n",
        "        print(f\"Selected CIK: {cik}\")\n",
        "        filing_url = get_10k_filing_urls(cik)\n",
        "        print(f\"Filing URL: {filing_url}\")\n",
        "        if filing_url:\n",
        "            download_file(filing_url, cik)\n",
        "            time.sleep(1)  # Respectful delay between requests\n",
        "            i += 1\n",
        "        else:\n",
        "            print(f\"No 10-K filings found for CIK {cik}.\")\n",
        "\n",
        "if __name__ == \"__main__\":\n",
        "    main()\n",
        "\n"
      ],
      "metadata": {
        "colab": {
          "base_uri": "https://localhost:8080/"
        },
        "id": "iXp4d8ZyppGd",
        "outputId": "e38f60be-306c-4b98-c67e-cacb87409ede"
      },
      "execution_count": null,
      "outputs": [
        {
          "output_type": "stream",
          "name": "stdout",
          "text": [
            "Drive already mounted at /content/drive; to attempt to forcibly remount, call drive.mount(\"/content/drive\", force_remount=True).\n",
            "Selected CIK: 1332349\n",
            "Filing URL: https://www.sec.gov/Archives/edgar/data/1332349/000133234923000047/0001332349-23-000047.txt\n",
            "Downloaded HTML: /content/drive/My Drive/10k_filings/1332349_10k_form.html\n",
            "Converted to Text: /content/drive/My Drive/10k_filings/1332349_10k_form.txt\n",
            "Selected CIK: 1835881\n",
            "Filing URL: https://www.sec.gov/Archives/edgar/data/1835881/000110465923040195/0001104659-23-040195.txt\n",
            "Downloaded HTML: /content/drive/My Drive/10k_filings/1835881_10k_form.html\n",
            "Converted to Text: /content/drive/My Drive/10k_filings/1835881_10k_form.txt\n",
            "Selected CIK: 912728\n",
            "Filing URL: https://www.sec.gov/Archives/edgar/data/912728/000162828023005879/0001628280-23-005879.txt\n",
            "Downloaded HTML: /content/drive/My Drive/10k_filings/912728_10k_form.html\n",
            "Converted to Text: /content/drive/My Drive/10k_filings/912728_10k_form.txt\n",
            "Selected CIK: 1057083\n",
            "Filing URL: https://www.sec.gov/Archives/edgar/data/1057083/000095017023015413/0000950170-23-015413.txt\n",
            "Downloaded HTML: /content/drive/My Drive/10k_filings/1057083_10k_form.html\n",
            "Converted to Text: /content/drive/My Drive/10k_filings/1057083_10k_form.txt\n",
            "Selected CIK: 1267902\n",
            "Filing URL: None\n",
            "No 10-K filings found for CIK 1267902.\n",
            "Selected CIK: 92103\n",
            "Filing URL: https://www.sec.gov/Archives/edgar/data/92103/000119312523083685/0001193125-23-083685.txt\n",
            "Downloaded HTML: /content/drive/My Drive/10k_filings/92103_10k_form.html\n",
            "Converted to Text: /content/drive/My Drive/10k_filings/92103_10k_form.txt\n"
          ]
        }
      ]
    },
    {
      "cell_type": "code",
      "source": [
        "from google.colab import drive\n",
        "drive.mount('/content/drive')"
      ],
      "metadata": {
        "id": "SNoAMHMgyLLx",
        "colab": {
          "base_uri": "https://localhost:8080/"
        },
        "outputId": "a90bb9b1-0e4b-4361-dba3-e50f81a8ec46"
      },
      "execution_count": null,
      "outputs": [
        {
          "output_type": "stream",
          "name": "stdout",
          "text": [
            "Drive already mounted at /content/drive; to attempt to forcibly remount, call drive.mount(\"/content/drive\", force_remount=True).\n"
          ]
        }
      ]
    },
    {
      "cell_type": "markdown",
      "source": [
        "Chunking the Data\n",
        "- I need to chunk the data into managable sizes for the LLM to ingest it.\n"
      ],
      "metadata": {
        "id": "EpP4nj-Utjt6"
      }
    }
  ]
}